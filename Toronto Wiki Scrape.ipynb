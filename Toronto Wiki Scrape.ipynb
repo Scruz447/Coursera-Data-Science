{
    "cells": [
        {
            "metadata": {
                "collapsed": true
            },
            "cell_type": "markdown",
            "source": "# Let's Scrape The Toronto Postal Code Wikipedia Page"
        },
        {
            "metadata": {},
            "cell_type": "markdown",
            "source": "### First we have to import the libraries we will need"
        },
        {
            "metadata": {},
            "cell_type": "code",
            "source": "from bs4 import BeautifulSoup\nimport requests\nimport pandas as pd\nimport numpy as np",
            "execution_count": 1,
            "outputs": []
        },
        {
            "metadata": {},
            "cell_type": "markdown",
            "source": "## Next, let's get the HTML code from Wikipedia"
        },
        {
            "metadata": {},
            "cell_type": "markdown",
            "source": "##### Using the Requests Library, we can store the html code of the Toronto Postal Code Wikipedia page in text format and name it 'resource'. Then create a BeautifulSoup object as 'soup' to extract the html code's contents to get relavent information for the dataframe."
        },
        {
            "metadata": {},
            "cell_type": "code",
            "source": "resource = requests.get('https://en.wikipedia.org/wiki/List_of_postal_codes_of_Canada:_M').text\n#print(resource)\nsoup  = BeautifulSoup(resource,'lxml')\n#print(soup.prettify()) # using prettify to show the indented format of the code.",
            "execution_count": 58,
            "outputs": []
        },
        {
            "metadata": {},
            "cell_type": "markdown",
            "source": "## Let's extract the table and it's values"
        },
        {
            "metadata": {},
            "cell_type": "code",
            "source": "table = soup.find('table', class_ = \"wikitable sortable\")\n#print(table.prettify())",
            "execution_count": 60,
            "outputs": []
        },
        {
            "metadata": {},
            "cell_type": "markdown",
            "source": "##### The data is in HTML format so we will need to extract all table rows seen above as '<>' with 'tr' inside, in text format by using '.text' which will remove the special characters '<', '/' and '>'."
        },
        {
            "metadata": {},
            "cell_type": "code",
            "source": "for row in table.find_all('tr'):\n    print(row.text)",
            "execution_count": 63,
            "outputs": [
                {
                    "output_type": "stream",
                    "text": "\nPostcode\nBorough\nNeighborhood\n\n\nM1A\nNot assigned\nNot assigned\n\n\nM2A\nNot assigned\nNot assigned\n\n\nM3A\nNorth York\nParkwoods\n\n\nM4A\nNorth York\nVictoria Village\n\n\nM5A\nDowntown Toronto\nHarbourfront\n\n\nM6A\nNorth York\nLawrence Heights\n\n\nM6A\nNorth York\nLawrence Manor\n\n\nM7A\nQueen's Park\nNot assigned\n\n\nM8A\nNot assigned\nNot assigned\n\n\nM9A\nDowntown Toronto\nQueen's Park\n\n\nM1B\nScarborough\nRouge\n\n\nM1B\nScarborough\nMalvern\n\n\nM2B\nNot assigned\nNot assigned\n\n\nM3B\nNorth York\nDon Mills North\n\n\nM4B\nEast York\nWoodbine Gardens\n\n\nM4B\nEast York\nParkview Hill\n\n\nM5B\nDowntown Toronto\nRyerson\n\n\nM5B\nDowntown Toronto\nGarden District\n\n\nM6B\nNorth York\nGlencairn\n\n\nM7B\nNot assigned\nNot assigned\n\n\nM8B\nNot assigned\nNot assigned\n\n\nM9B\nEtobicoke\nCloverdale\n\n\nM9B\nEtobicoke\nIslington\n\n\nM9B\nEtobicoke\nMartin Grove\n\n\nM9B\nEtobicoke\nPrincess Gardens\n\n\nM9B\nEtobicoke\nWest Deane Park\n\n\nM1C\nScarborough\nHighland Creek\n\n\nM1C\nScarborough\nRouge Hill\n\n\nM1C\nScarborough\nPort Union\n\n\nM2C\nNot assigned\nNot assigned\n\n\nM3C\nNorth York\nFlemingdon Park\n\n\nM3C\nNorth York\nDon Mills South\n\n\nM4C\nEast York\nWoodbine Heights\n\n\nM5C\nDowntown Toronto\nSt. James Town\n\n\nM6C\nYork\nHumewood-Cedarvale\n\n\nM7C\nNot assigned\nNot assigned\n\n\nM8C\nNot assigned\nNot assigned\n\n\nM9C\nEtobicoke\nBloordale Gardens\n\n\nM9C\nEtobicoke\nEringate\n\n\nM9C\nEtobicoke\nMarkland Wood\n\n\nM9C\nEtobicoke\nOld Burnhamthorpe\n\n\nM1E\nScarborough\nGuildwood\n\n\nM1E\nScarborough\nMorningside\n\n\nM1E\nScarborough\nWest Hill\n\n\nM2E\nNot assigned\nNot assigned\n\n\nM3E\nNot assigned\nNot assigned\n\n\nM4E\nEast Toronto\nThe Beaches\n\n\nM5E\nDowntown Toronto\nBerczy Park\n\n\nM6E\nYork\nCaledonia-Fairbanks\n\n\nM7E\nNot assigned\nNot assigned\n\n\nM8E\nNot assigned\nNot assigned\n\n\nM9E\nNot assigned\nNot assigned\n\n\nM1G\nScarborough\nWoburn\n\n\nM2G\nNot assigned\nNot assigned\n\n\nM3G\nNot assigned\nNot assigned\n\n\nM4G\nEast York\nLeaside\n\n\nM5G\nDowntown Toronto\nCentral Bay Street\n\n\nM6G\nDowntown Toronto\nChristie\n\n\nM7G\nNot assigned\nNot assigned\n\n\nM8G\nNot assigned\nNot assigned\n\n\nM9G\nNot assigned\nNot assigned\n\n\nM1H\nScarborough\nCedarbrae\n\n\nM2H\nNorth York\nHillcrest Village\n\n\nM3H\nNorth York\nBathurst Manor\n\n\nM3H\nNorth York\nDownsview North\n\n\nM3H\nNorth York\nWilson Heights\n\n\nM4H\nEast York\nThorncliffe Park\n\n\nM5H\nDowntown Toronto\nAdelaide\n\n\nM5H\nDowntown Toronto\nKing\n\n\nM5H\nDowntown Toronto\nRichmond\n\n\nM6H\nWest Toronto\nDovercourt Village\n\n\nM6H\nWest Toronto\nDufferin\n\n\nM7H\nNot assigned\nNot assigned\n\n\nM8H\nNot assigned\nNot assigned\n\n\nM9H\nNot assigned\nNot assigned\n\n\nM1J\nScarborough\nScarborough Village\n\n\nM2J\nNorth York\nFairview\n\n\nM2J\nNorth York\nHenry Farm\n\n\nM2J\nNorth York\nOriole\n\n\nM3J\nNorth York\nNorthwood Park\n\n\nM3J\nNorth York\nYork University\n\n\nM4J\nEast York\nEast Toronto\n\n\nM5J\nDowntown Toronto\nHarbourfront East\n\n\nM5J\nDowntown Toronto\nToronto Islands\n\n\nM5J\nDowntown Toronto\nUnion Station\n\n\nM6J\nWest Toronto\nLittle Portugal\n\n\nM6J\nWest Toronto\nTrinity\n\n\nM7J\nNot assigned\nNot assigned\n\n\nM8J\nNot assigned\nNot assigned\n\n\nM9J\nNot assigned\nNot assigned\n\n\nM1K\nScarborough\nEast Birchmount Park\n\n\nM1K\nScarborough\nIonview\n\n\nM1K\nScarborough\nKennedy Park\n\n\nM2K\nNorth York\nBayview Village\n\n\nM3K\nNorth York\nCFB Toronto\n\n\nM3K\nNorth York\nDownsview East\n\n\nM4K\nEast Toronto\nThe Danforth West\n\n\nM4K\nEast Toronto\nRiverdale\n\n\nM5K\nDowntown Toronto\nDesign Exchange\n\n\nM5K\nDowntown Toronto\nToronto Dominion Centre\n\n\nM6K\nWest Toronto\nBrockton\n\n\nM6K\nWest Toronto\nExhibition Place\n\n\nM6K\nWest Toronto\nParkdale Village\n\n\nM7K\nNot assigned\nNot assigned\n\n\nM8K\nNot assigned\nNot assigned\n\n\nM9K\nNot assigned\nNot assigned\n\n\nM1L\nScarborough\nClairlea\n\n\nM1L\nScarborough\nGolden Mile\n\n\nM1L\nScarborough\nOakridge\n\n\nM2L\nNorth York\nSilver Hills\n\n\nM2L\nNorth York\nYork Mills\n\n\nM3L\nNorth York\nDownsview West\n\n\nM4L\nEast Toronto\nThe Beaches West\n\n\nM4L\nEast Toronto\nIndia Bazaar\n\n\nM5L\nDowntown Toronto\nCommerce Court\n\n\nM5L\nDowntown Toronto\nVictoria Hotel\n\n\nM6L\nNorth York\nDownsview\n\n\nM6L\nNorth York\nNorth Park\n\n\nM6L\nNorth York\nUpwood Park\n\n\nM7L\nNot assigned\nNot assigned\n\n\nM8L\nNot assigned\nNot assigned\n\n\nM9L\nNorth York\nHumber Summit\n\n\nM1M\nScarborough\nCliffcrest\n\n\nM1M\nScarborough\nCliffside\n\n\nM1M\nScarborough\nScarborough Village West\n\n\nM2M\nNorth York\nNewtonbrook\n\n\nM2M\nNorth York\nWillowdale\n\n\nM3M\nNorth York\nDownsview Central\n\n\nM4M\nEast Toronto\nStudio District\n\n\nM5M\nNorth York\nBedford Park\n\n\nM5M\nNorth York\nLawrence Manor East\n\n\nM6M\nYork\nDel Ray\n\n\nM6M\nYork\nKeelesdale\n\n\nM6M\nYork\nMount Dennis\n\n\nM6M\nYork\nSilverthorn\n\n\nM7M\nNot assigned\nNot assigned\n\n\nM8M\nNot assigned\nNot assigned\n\n\nM9M\nNorth York\nEmery\n\n\nM9M\nNorth York\nHumberlea\n\n\nM1N\nScarborough\nBirch Cliff\n\n\nM1N\nScarborough\nCliffside West\n\n\nM2N\nNorth York\nWillowdale South\n\n\nM3N\nNorth York\nDownsview Northwest\n\n\nM4N\nCentral Toronto\nLawrence Park\n\n\nM5N\nCentral Toronto\nRoselawn\n\n\nM6N\nYork\nThe Junction North\n\n\nM6N\nYork\nRunnymede\n\n\nM7N\nNot assigned\nNot assigned\n\n\nM8N\nNot assigned\nNot assigned\n\n\nM9N\nYork\nWeston\n\n\nM1P\nScarborough\nDorset Park\n\n\nM1P\nScarborough\nScarborough Town Centre\n\n\nM1P\nScarborough\nWexford Heights\n\n\nM2P\nNorth York\nYork Mills West\n\n\nM3P\nNot assigned\nNot assigned\n\n\nM4P\nCentral Toronto\nDavisville North\n\n\nM5P\nCentral Toronto\nForest Hill North\n\n\nM5P\nCentral Toronto\nForest Hill West\n\n\nM6P\nWest Toronto\nHigh Park\n\n\nM6P\nWest Toronto\nThe Junction South\n\n\nM7P\nNot assigned\nNot assigned\n\n\nM8P\nNot assigned\nNot assigned\n\n\nM9P\nEtobicoke\nWestmount\n\n\nM1R\nScarborough\nMaryvale\n\n\nM1R\nScarborough\nWexford\n\n\nM2R\nNorth York\nWillowdale West\n\n\nM3R\nNot assigned\nNot assigned\n\n\nM4R\nCentral Toronto\nNorth Toronto West\n\n\nM5R\nCentral Toronto\nThe Annex\n\n\nM5R\nCentral Toronto\nNorth Midtown\n\n\nM5R\nCentral Toronto\nYorkville\n\n\nM6R\nWest Toronto\nParkdale\n\n\nM6R\nWest Toronto\nRoncesvalles\n\n\nM7R\nMississauga\nCanada Post Gateway Processing Centre\n\n\nM8R\nNot assigned\nNot assigned\n\n\nM9R\nEtobicoke\nKingsview Village\n\n\nM9R\nEtobicoke\nMartin Grove Gardens\n\n\nM9R\nEtobicoke\nRichview Gardens\n\n\nM9R\nEtobicoke\nSt. Phillips\n\n\nM1S\nScarborough\nAgincourt\n\n\nM2S\nNot assigned\nNot assigned\n\n\nM3S\nNot assigned\nNot assigned\n\n\nM4S\nCentral Toronto\nDavisville\n\n\nM5S\nDowntown Toronto\nHarbord\n\n\nM5S\nDowntown Toronto\nUniversity of Toronto\n\n\nM6S\nWest Toronto\nRunnymede\n\n\nM6S\nWest Toronto\nSwansea\n\n\nM7S\nNot assigned\nNot assigned\n\n\nM8S\nNot assigned\nNot assigned\n\n\nM9S\nNot assigned\nNot assigned\n\n\nM1T\nScarborough\nClarks Corners\n\n\nM1T\nScarborough\nSullivan\n\n\nM1T\nScarborough\nTam O'Shanter\n\n\nM2T\nNot assigned\nNot assigned\n\n\nM3T\nNot assigned\nNot assigned\n\n\nM4T\nCentral Toronto\nMoore Park\n\n\nM4T\nCentral Toronto\nSummerhill East\n\n\nM5T\nDowntown Toronto\nChinatown\n\n\nM5T\nDowntown Toronto\nGrange Park\n\n\nM5T\nDowntown Toronto\nKensington Market\n\n\nM6T\nNot assigned\nNot assigned\n\n\nM7T\nNot assigned\nNot assigned\n\n\nM8T\nNot assigned\nNot assigned\n\n\nM9T\nNot assigned\nNot assigned\n\n\nM1V\nScarborough\nAgincourt North\n\n\nM1V\nScarborough\nL'Amoreaux East\n\n\nM1V\nScarborough\nMilliken\n\n\nM1V\nScarborough\nSteeles East\n\n\nM2V\nNot assigned\nNot assigned\n\n\nM3V\nNot assigned\nNot assigned\n\n\nM4V\nCentral Toronto\nDeer Park\n\n\nM4V\nCentral Toronto\nForest Hill SE\n\n\nM4V\nCentral Toronto\nRathnelly\n\n\nM4V\nCentral Toronto\nSouth Hill\n\n\nM4V\nCentral Toronto\nSummerhill West\n\n\nM5V\nDowntown Toronto\nCN Tower\n\n\nM5V\nDowntown Toronto\nBathurst Quay\n\n\nM5V\nDowntown Toronto\nIsland airport\n\n\nM5V\nDowntown Toronto\nHarbourfront West\n\n\nM5V\nDowntown Toronto\nKing and Spadina\n\n\nM5V\nDowntown Toronto\nRailway Lands\n\n\nM5V\nDowntown Toronto\nSouth Niagara\n\n\nM6V\nNot assigned\nNot assigned\n\n\nM7V\nNot assigned\nNot assigned\n\n\nM8V\nEtobicoke\nHumber Bay Shores\n\n\nM8V\nEtobicoke\nMimico South\n\n\nM8V\nEtobicoke\nNew Toronto\n\n\nM9V\nEtobicoke\nAlbion Gardens\n\n\nM9V\nEtobicoke\nBeaumond Heights\n\n\nM9V\nEtobicoke\nHumbergate\n\n\nM9V\nEtobicoke\nJamestown\n\n\nM9V\nEtobicoke\nMount Olive\n\n\nM9V\nEtobicoke\nSilverstone\n\n\nM9V\nEtobicoke\nSouth Steeles\n\n\nM9V\nEtobicoke\nThistletown\n\n\nM1W\nScarborough\nL'Amoreaux West\n\n\nM2W\nNot assigned\nNot assigned\n\n\nM3W\nNot assigned\nNot assigned\n\n\nM4W\nDowntown Toronto\nRosedale\n\n\nM5W\nDowntown Toronto\nStn A PO Boxes 25 The Esplanade\n\n\nM6W\nNot assigned\nNot assigned\n\n\nM7W\nNot assigned\nNot assigned\n\n\nM8W\nEtobicoke\nAlderwood\n\n\nM8W\nEtobicoke\nLong Branch\n\n\nM9W\nEtobicoke\nNorthwest\n\n\nM1X\nScarborough\nUpper Rouge\n\n\nM2X\nNot assigned\nNot assigned\n\n\nM3X\nNot assigned\nNot assigned\n\n\nM4X\nDowntown Toronto\nCabbagetown\n\n\nM4X\nDowntown Toronto\nSt. James Town\n\n\nM5X\nDowntown Toronto\nFirst Canadian Place\n\n\nM5X\nDowntown Toronto\nUnderground city\n\n\nM6X\nNot assigned\nNot assigned\n\n\nM7X\nNot assigned\nNot assigned\n\n\nM8X\nEtobicoke\nThe Kingsway\n\n\nM8X\nEtobicoke\nMontgomery Road\n\n\nM8X\nEtobicoke\nOld Mill North\n\n\nM9X\nNot assigned\nNot assigned\n\n\nM1Y\nNot assigned\nNot assigned\n\n\nM2Y\nNot assigned\nNot assigned\n\n\nM3Y\nNot assigned\nNot assigned\n\n\nM4Y\nDowntown Toronto\nChurch and Wellesley\n\n\nM5Y\nNot assigned\nNot assigned\n\n\nM6Y\nNot assigned\nNot assigned\n\n\nM7Y\nEast Toronto\nBusiness Reply Mail Processing Centre 969 Eastern\n\n\nM8Y\nEtobicoke\nHumber Bay\n\n\nM8Y\nEtobicoke\nKing's Mill Park\n\n\nM8Y\nEtobicoke\nKingsway Park South East\n\n\nM8Y\nEtobicoke\nMimico NE\n\n\nM8Y\nEtobicoke\nOld Mill South\n\n\nM8Y\nEtobicoke\nThe Queensway East\n\n\nM8Y\nEtobicoke\nRoyal York South East\n\n\nM8Y\nEtobicoke\nSunnylea\n\n\nM9Y\nNot assigned\nNot assigned\n\n\nM1Z\nNot assigned\nNot assigned\n\n\nM2Z\nNot assigned\nNot assigned\n\n\nM3Z\nNot assigned\nNot assigned\n\n\nM4Z\nNot assigned\nNot assigned\n\n\nM5Z\nNot assigned\nNot assigned\n\n\nM6Z\nNot assigned\nNot assigned\n\n\nM7Z\nNot assigned\nNot assigned\n\n\nM8Z\nEtobicoke\nKingsway Park South West\n\n\nM8Z\nEtobicoke\nMimico NW\n\n\nM8Z\nEtobicoke\nThe Queensway West\n\n\nM8Z\nEtobicoke\nRoyal York South West\n\n\nM8Z\nEtobicoke\nSouth of Bloor\n\n\nM9Z\nNot assigned\nNot assigned\n\n",
                    "name": "stdout"
                }
            ]
        },
        {
            "metadata": {},
            "cell_type": "markdown",
            "source": "### Let's List The Elements Of Our Rows"
        },
        {
            "metadata": {},
            "cell_type": "code",
            "source": "for tr in table.find_all('tr'): #tr = table row\n    data = (tr.find_all('td')) #td = table data\n    row1 = [i.text for i in data]\n    print(row1)",
            "execution_count": 8,
            "outputs": [
                {
                    "output_type": "stream",
                    "text": "[]\n['M1A', 'Not assigned', 'Not assigned\\n']\n['M2A', 'Not assigned', 'Not assigned\\n']\n['M3A', 'North York', 'Parkwoods\\n']\n['M4A', 'North York', 'Victoria Village\\n']\n['M5A', 'Downtown Toronto', 'Harbourfront\\n']\n['M6A', 'North York', 'Lawrence Heights\\n']\n['M6A', 'North York', 'Lawrence Manor\\n']\n['M7A', \"Queen's Park\", 'Not assigned\\n']\n['M8A', 'Not assigned', 'Not assigned\\n']\n['M9A', 'Downtown Toronto', \"Queen's Park\\n\"]\n['M1B', 'Scarborough', 'Rouge\\n']\n['M1B', 'Scarborough', 'Malvern\\n']\n['M2B', 'Not assigned', 'Not assigned\\n']\n['M3B', 'North York', 'Don Mills North\\n']\n['M4B', 'East York', 'Woodbine Gardens\\n']\n['M4B', 'East York', 'Parkview Hill\\n']\n['M5B', 'Downtown Toronto', 'Ryerson\\n']\n['M5B', 'Downtown Toronto', 'Garden District\\n']\n['M6B', 'North York', 'Glencairn\\n']\n['M7B', 'Not assigned', 'Not assigned\\n']\n['M8B', 'Not assigned', 'Not assigned\\n']\n['M9B', 'Etobicoke', 'Cloverdale\\n']\n['M9B', 'Etobicoke', 'Islington\\n']\n['M9B', 'Etobicoke', 'Martin Grove\\n']\n['M9B', 'Etobicoke', 'Princess Gardens\\n']\n['M9B', 'Etobicoke', 'West Deane Park\\n']\n['M1C', 'Scarborough', 'Highland Creek\\n']\n['M1C', 'Scarborough', 'Rouge Hill\\n']\n['M1C', 'Scarborough', 'Port Union\\n']\n['M2C', 'Not assigned', 'Not assigned\\n']\n['M3C', 'North York', 'Flemingdon Park\\n']\n['M3C', 'North York', 'Don Mills South\\n']\n['M4C', 'East York', 'Woodbine Heights\\n']\n['M5C', 'Downtown Toronto', 'St. James Town\\n']\n['M6C', 'York', 'Humewood-Cedarvale\\n']\n['M7C', 'Not assigned', 'Not assigned\\n']\n['M8C', 'Not assigned', 'Not assigned\\n']\n['M9C', 'Etobicoke', 'Bloordale Gardens\\n']\n['M9C', 'Etobicoke', 'Eringate\\n']\n['M9C', 'Etobicoke', 'Markland Wood\\n']\n['M9C', 'Etobicoke', 'Old Burnhamthorpe\\n']\n['M1E', 'Scarborough', 'Guildwood\\n']\n['M1E', 'Scarborough', 'Morningside\\n']\n['M1E', 'Scarborough', 'West Hill\\n']\n['M2E', 'Not assigned', 'Not assigned\\n']\n['M3E', 'Not assigned', 'Not assigned\\n']\n['M4E', 'East Toronto', 'The Beaches\\n']\n['M5E', 'Downtown Toronto', 'Berczy Park\\n']\n['M6E', 'York', 'Caledonia-Fairbanks\\n']\n['M7E', 'Not assigned', 'Not assigned\\n']\n['M8E', 'Not assigned', 'Not assigned\\n']\n['M9E', 'Not assigned', 'Not assigned\\n']\n['M1G', 'Scarborough', 'Woburn\\n']\n['M2G', 'Not assigned', 'Not assigned\\n']\n['M3G', 'Not assigned', 'Not assigned\\n']\n['M4G', 'East York', 'Leaside\\n']\n['M5G', 'Downtown Toronto', 'Central Bay Street\\n']\n['M6G', 'Downtown Toronto', 'Christie\\n']\n['M7G', 'Not assigned', 'Not assigned\\n']\n['M8G', 'Not assigned', 'Not assigned\\n']\n['M9G', 'Not assigned', 'Not assigned\\n']\n['M1H', 'Scarborough', 'Cedarbrae\\n']\n['M2H', 'North York', 'Hillcrest Village\\n']\n['M3H', 'North York', 'Bathurst Manor\\n']\n['M3H', 'North York', 'Downsview North\\n']\n['M3H', 'North York', 'Wilson Heights\\n']\n['M4H', 'East York', 'Thorncliffe Park\\n']\n['M5H', 'Downtown Toronto', 'Adelaide\\n']\n['M5H', 'Downtown Toronto', 'King\\n']\n['M5H', 'Downtown Toronto', 'Richmond\\n']\n['M6H', 'West Toronto', 'Dovercourt Village\\n']\n['M6H', 'West Toronto', 'Dufferin\\n']\n['M7H', 'Not assigned', 'Not assigned\\n']\n['M8H', 'Not assigned', 'Not assigned\\n']\n['M9H', 'Not assigned', 'Not assigned\\n']\n['M1J', 'Scarborough', 'Scarborough Village\\n']\n['M2J', 'North York', 'Fairview\\n']\n['M2J', 'North York', 'Henry Farm\\n']\n['M2J', 'North York', 'Oriole\\n']\n['M3J', 'North York', 'Northwood Park\\n']\n['M3J', 'North York', 'York University\\n']\n['M4J', 'East York', 'East Toronto\\n']\n['M5J', 'Downtown Toronto', 'Harbourfront East\\n']\n['M5J', 'Downtown Toronto', 'Toronto Islands\\n']\n['M5J', 'Downtown Toronto', 'Union Station\\n']\n['M6J', 'West Toronto', 'Little Portugal\\n']\n['M6J', 'West Toronto', 'Trinity\\n']\n['M7J', 'Not assigned', 'Not assigned\\n']\n['M8J', 'Not assigned', 'Not assigned\\n']\n['M9J', 'Not assigned', 'Not assigned\\n']\n['M1K', 'Scarborough', 'East Birchmount Park\\n']\n['M1K', 'Scarborough', 'Ionview\\n']\n['M1K', 'Scarborough', 'Kennedy Park\\n']\n['M2K', 'North York', 'Bayview Village\\n']\n['M3K', 'North York', 'CFB Toronto\\n']\n['M3K', 'North York', 'Downsview East\\n']\n['M4K', 'East Toronto', 'The Danforth West\\n']\n['M4K', 'East Toronto', 'Riverdale\\n']\n['M5K', 'Downtown Toronto', 'Design Exchange\\n']\n['M5K', 'Downtown Toronto', 'Toronto Dominion Centre\\n']\n['M6K', 'West Toronto', 'Brockton\\n']\n['M6K', 'West Toronto', 'Exhibition Place\\n']\n['M6K', 'West Toronto', 'Parkdale Village\\n']\n['M7K', 'Not assigned', 'Not assigned\\n']\n['M8K', 'Not assigned', 'Not assigned\\n']\n['M9K', 'Not assigned', 'Not assigned\\n']\n['M1L', 'Scarborough', 'Clairlea\\n']\n['M1L', 'Scarborough', 'Golden Mile\\n']\n['M1L', 'Scarborough', 'Oakridge\\n']\n['M2L', 'North York', 'Silver Hills\\n']\n['M2L', 'North York', 'York Mills\\n']\n['M3L', 'North York', 'Downsview West\\n']\n['M4L', 'East Toronto', 'The Beaches West\\n']\n['M4L', 'East Toronto', 'India Bazaar\\n']\n['M5L', 'Downtown Toronto', 'Commerce Court\\n']\n['M5L', 'Downtown Toronto', 'Victoria Hotel\\n']\n['M6L', 'North York', 'Downsview\\n']\n['M6L', 'North York', 'North Park\\n']\n['M6L', 'North York', 'Upwood Park\\n']\n['M7L', 'Not assigned', 'Not assigned\\n']\n['M8L', 'Not assigned', 'Not assigned\\n']\n['M9L', 'North York', 'Humber Summit\\n']\n['M1M', 'Scarborough', 'Cliffcrest\\n']\n['M1M', 'Scarborough', 'Cliffside\\n']\n['M1M', 'Scarborough', 'Scarborough Village West\\n']\n['M2M', 'North York', 'Newtonbrook\\n']\n['M2M', 'North York', 'Willowdale\\n']\n['M3M', 'North York', 'Downsview Central\\n']\n['M4M', 'East Toronto', 'Studio District\\n']\n['M5M', 'North York', 'Bedford Park\\n']\n['M5M', 'North York', 'Lawrence Manor East\\n']\n['M6M', 'York', 'Del Ray\\n']\n['M6M', 'York', 'Keelesdale\\n']\n['M6M', 'York', 'Mount Dennis\\n']\n['M6M', 'York', 'Silverthorn\\n']\n['M7M', 'Not assigned', 'Not assigned\\n']\n['M8M', 'Not assigned', 'Not assigned\\n']\n['M9M', 'North York', 'Emery\\n']\n['M9M', 'North York', 'Humberlea\\n']\n['M1N', 'Scarborough', 'Birch Cliff\\n']\n['M1N', 'Scarborough', 'Cliffside West\\n']\n['M2N', 'North York', 'Willowdale South\\n']\n['M3N', 'North York', 'Downsview Northwest\\n']\n['M4N', 'Central Toronto', 'Lawrence Park\\n']\n['M5N', 'Central Toronto', 'Roselawn\\n']\n['M6N', 'York', 'The Junction North\\n']\n['M6N', 'York', 'Runnymede\\n']\n['M7N', 'Not assigned', 'Not assigned\\n']\n['M8N', 'Not assigned', 'Not assigned\\n']\n['M9N', 'York', 'Weston\\n']\n['M1P', 'Scarborough', 'Dorset Park\\n']\n['M1P', 'Scarborough', 'Scarborough Town Centre\\n']\n['M1P', 'Scarborough', 'Wexford Heights\\n']\n['M2P', 'North York', 'York Mills West\\n']\n['M3P', 'Not assigned', 'Not assigned\\n']\n['M4P', 'Central Toronto', 'Davisville North\\n']\n['M5P', 'Central Toronto', 'Forest Hill North\\n']\n['M5P', 'Central Toronto', 'Forest Hill West\\n']\n['M6P', 'West Toronto', 'High Park\\n']\n['M6P', 'West Toronto', 'The Junction South\\n']\n['M7P', 'Not assigned', 'Not assigned\\n']\n['M8P', 'Not assigned', 'Not assigned\\n']\n['M9P', 'Etobicoke', 'Westmount\\n']\n['M1R', 'Scarborough', 'Maryvale\\n']\n['M1R', 'Scarborough', 'Wexford\\n']\n['M2R', 'North York', 'Willowdale West\\n']\n['M3R', 'Not assigned', 'Not assigned\\n']\n['M4R', 'Central Toronto', 'North Toronto West\\n']\n['M5R', 'Central Toronto', 'The Annex\\n']\n['M5R', 'Central Toronto', 'North Midtown\\n']\n['M5R', 'Central Toronto', 'Yorkville\\n']\n['M6R', 'West Toronto', 'Parkdale\\n']\n['M6R', 'West Toronto', 'Roncesvalles\\n']\n['M7R', 'Mississauga', 'Canada Post Gateway Processing Centre\\n']\n['M8R', 'Not assigned', 'Not assigned\\n']\n['M9R', 'Etobicoke', 'Kingsview Village\\n']\n['M9R', 'Etobicoke', 'Martin Grove Gardens\\n']\n['M9R', 'Etobicoke', 'Richview Gardens\\n']\n['M9R', 'Etobicoke', 'St. Phillips\\n']\n['M1S', 'Scarborough', 'Agincourt\\n']\n['M2S', 'Not assigned', 'Not assigned\\n']\n['M3S', 'Not assigned', 'Not assigned\\n']\n['M4S', 'Central Toronto', 'Davisville\\n']\n['M5S', 'Downtown Toronto', 'Harbord\\n']\n['M5S', 'Downtown Toronto', 'University of Toronto\\n']\n['M6S', 'West Toronto', 'Runnymede\\n']\n['M6S', 'West Toronto', 'Swansea\\n']\n['M7S', 'Not assigned', 'Not assigned\\n']\n['M8S', 'Not assigned', 'Not assigned\\n']\n['M9S', 'Not assigned', 'Not assigned\\n']\n['M1T', 'Scarborough', 'Clarks Corners\\n']\n['M1T', 'Scarborough', 'Sullivan\\n']\n['M1T', 'Scarborough', \"Tam O'Shanter\\n\"]\n['M2T', 'Not assigned', 'Not assigned\\n']\n['M3T', 'Not assigned', 'Not assigned\\n']\n['M4T', 'Central Toronto', 'Moore Park\\n']\n['M4T', 'Central Toronto', 'Summerhill East\\n']\n['M5T', 'Downtown Toronto', 'Chinatown\\n']\n['M5T', 'Downtown Toronto', 'Grange Park\\n']\n['M5T', 'Downtown Toronto', 'Kensington Market\\n']\n['M6T', 'Not assigned', 'Not assigned\\n']\n['M7T', 'Not assigned', 'Not assigned\\n']\n['M8T', 'Not assigned', 'Not assigned\\n']\n['M9T', 'Not assigned', 'Not assigned\\n']\n['M1V', 'Scarborough', 'Agincourt North\\n']\n['M1V', 'Scarborough', \"L'Amoreaux East\\n\"]\n['M1V', 'Scarborough', 'Milliken\\n']\n['M1V', 'Scarborough', 'Steeles East\\n']\n['M2V', 'Not assigned', 'Not assigned\\n']\n['M3V', 'Not assigned', 'Not assigned\\n']\n['M4V', 'Central Toronto', 'Deer Park\\n']\n['M4V', 'Central Toronto', 'Forest Hill SE\\n']\n['M4V', 'Central Toronto', 'Rathnelly\\n']\n['M4V', 'Central Toronto', 'South Hill\\n']\n['M4V', 'Central Toronto', 'Summerhill West\\n']\n['M5V', 'Downtown Toronto', 'CN Tower\\n']\n['M5V', 'Downtown Toronto', 'Bathurst Quay\\n']\n['M5V', 'Downtown Toronto', 'Island airport\\n']\n['M5V', 'Downtown Toronto', 'Harbourfront West\\n']\n['M5V', 'Downtown Toronto', 'King and Spadina\\n']\n['M5V', 'Downtown Toronto', 'Railway Lands\\n']\n['M5V', 'Downtown Toronto', 'South Niagara\\n']\n['M6V', 'Not assigned', 'Not assigned\\n']\n['M7V', 'Not assigned', 'Not assigned\\n']\n['M8V', 'Etobicoke', 'Humber Bay Shores\\n']\n['M8V', 'Etobicoke', 'Mimico South\\n']\n['M8V', 'Etobicoke', 'New Toronto\\n']\n['M9V', 'Etobicoke', 'Albion Gardens\\n']\n['M9V', 'Etobicoke', 'Beaumond Heights\\n']\n['M9V', 'Etobicoke', 'Humbergate\\n']\n['M9V', 'Etobicoke', 'Jamestown\\n']\n['M9V', 'Etobicoke', 'Mount Olive\\n']\n['M9V', 'Etobicoke', 'Silverstone\\n']\n['M9V', 'Etobicoke', 'South Steeles\\n']\n['M9V', 'Etobicoke', 'Thistletown\\n']\n['M1W', 'Scarborough', \"L'Amoreaux West\\n\"]\n['M2W', 'Not assigned', 'Not assigned\\n']\n['M3W', 'Not assigned', 'Not assigned\\n']\n['M4W', 'Downtown Toronto', 'Rosedale\\n']\n['M5W', 'Downtown Toronto', 'Stn A PO Boxes 25 The Esplanade\\n']\n['M6W', 'Not assigned', 'Not assigned\\n']\n['M7W', 'Not assigned', 'Not assigned\\n']\n['M8W', 'Etobicoke', 'Alderwood\\n']\n['M8W', 'Etobicoke', 'Long Branch\\n']\n['M9W', 'Etobicoke', 'Northwest\\n']\n['M1X', 'Scarborough', 'Upper Rouge\\n']\n['M2X', 'Not assigned', 'Not assigned\\n']\n['M3X', 'Not assigned', 'Not assigned\\n']\n['M4X', 'Downtown Toronto', 'Cabbagetown\\n']\n['M4X', 'Downtown Toronto', 'St. James Town\\n']\n['M5X', 'Downtown Toronto', 'First Canadian Place\\n']\n['M5X', 'Downtown Toronto', 'Underground city\\n']\n['M6X', 'Not assigned', 'Not assigned\\n']\n['M7X', 'Not assigned', 'Not assigned\\n']\n['M8X', 'Etobicoke', 'The Kingsway\\n']\n['M8X', 'Etobicoke', 'Montgomery Road\\n']\n['M8X', 'Etobicoke', 'Old Mill North\\n']\n['M9X', 'Not assigned', 'Not assigned\\n']\n['M1Y', 'Not assigned', 'Not assigned\\n']\n['M2Y', 'Not assigned', 'Not assigned\\n']\n['M3Y', 'Not assigned', 'Not assigned\\n']\n['M4Y', 'Downtown Toronto', 'Church and Wellesley\\n']\n['M5Y', 'Not assigned', 'Not assigned\\n']\n['M6Y', 'Not assigned', 'Not assigned\\n']\n['M7Y', 'East Toronto', 'Business Reply Mail Processing Centre 969 Eastern\\n']\n['M8Y', 'Etobicoke', 'Humber Bay\\n']\n['M8Y', 'Etobicoke', \"King's Mill Park\\n\"]\n['M8Y', 'Etobicoke', 'Kingsway Park South East\\n']\n['M8Y', 'Etobicoke', 'Mimico NE\\n']\n['M8Y', 'Etobicoke', 'Old Mill South\\n']\n['M8Y', 'Etobicoke', 'The Queensway East\\n']\n['M8Y', 'Etobicoke', 'Royal York South East\\n']\n['M8Y', 'Etobicoke', 'Sunnylea\\n']\n['M9Y', 'Not assigned', 'Not assigned\\n']\n['M1Z', 'Not assigned', 'Not assigned\\n']\n['M2Z', 'Not assigned', 'Not assigned\\n']\n['M3Z', 'Not assigned', 'Not assigned\\n']\n['M4Z', 'Not assigned', 'Not assigned\\n']\n['M5Z', 'Not assigned', 'Not assigned\\n']\n['M6Z', 'Not assigned', 'Not assigned\\n']\n['M7Z', 'Not assigned', 'Not assigned\\n']\n['M8Z', 'Etobicoke', 'Kingsway Park South West\\n']\n['M8Z', 'Etobicoke', 'Mimico NW\\n']\n['M8Z', 'Etobicoke', 'The Queensway West\\n']\n['M8Z', 'Etobicoke', 'Royal York South West\\n']\n['M8Z', 'Etobicoke', 'South of Bloor\\n']\n['M9Z', 'Not assigned', 'Not assigned\\n']\n",
                    "name": "stdout"
                }
            ]
        },
        {
            "metadata": {},
            "cell_type": "markdown",
            "source": "## Now Let's Create the DataFrame"
        },
        {
            "metadata": {},
            "cell_type": "markdown",
            "source": "##### We will make an array of the lists above so we can turn it into a dataframe.\n\n##### We will also need to add the column names which are the Table Headers labled 'th' within the '<>' in the html code above."
        },
        {
            "metadata": {},
            "cell_type": "code",
            "source": "row= []\nfor tr in table.find_all('tr'):\n    data = tr.find_all('td')\n    row.append([i.text.strip() for i in data]) # .strip() is used to remove the \\n from last column\n      \nlabels = table.find_all('th')\nlabels = [c.text for c in labels]\nlabels = [i.strip() for i in labels] \n#print(labels)\ntor_data = pd.DataFrame( data  = row , columns = labels)\ntor_data.head()\n",
            "execution_count": 41,
            "outputs": [
                {
                    "output_type": "execute_result",
                    "execution_count": 41,
                    "data": {
                        "text/plain": "  Postcode       Borough      Neighborhood\n0     None          None              None\n1      M1A  Not assigned      Not assigned\n2      M2A  Not assigned      Not assigned\n3      M3A    North York         Parkwoods\n4      M4A    North York  Victoria Village",
                        "text/html": "<div>\n<style scoped>\n    .dataframe tbody tr th:only-of-type {\n        vertical-align: middle;\n    }\n\n    .dataframe tbody tr th {\n        vertical-align: top;\n    }\n\n    .dataframe thead th {\n        text-align: right;\n    }\n</style>\n<table border=\"1\" class=\"dataframe\">\n  <thead>\n    <tr style=\"text-align: right;\">\n      <th></th>\n      <th>Postcode</th>\n      <th>Borough</th>\n      <th>Neighborhood</th>\n    </tr>\n  </thead>\n  <tbody>\n    <tr>\n      <th>0</th>\n      <td>None</td>\n      <td>None</td>\n      <td>None</td>\n    </tr>\n    <tr>\n      <th>1</th>\n      <td>M1A</td>\n      <td>Not assigned</td>\n      <td>Not assigned</td>\n    </tr>\n    <tr>\n      <th>2</th>\n      <td>M2A</td>\n      <td>Not assigned</td>\n      <td>Not assigned</td>\n    </tr>\n    <tr>\n      <th>3</th>\n      <td>M3A</td>\n      <td>North York</td>\n      <td>Parkwoods</td>\n    </tr>\n    <tr>\n      <th>4</th>\n      <td>M4A</td>\n      <td>North York</td>\n      <td>Victoria Village</td>\n    </tr>\n  </tbody>\n</table>\n</div>"
                    },
                    "metadata": {}
                }
            ]
        },
        {
            "metadata": {},
            "cell_type": "markdown",
            "source": "### Now let's clean our dataframe"
        },
        {
            "metadata": {},
            "cell_type": "markdown",
            "source": "##### We will start by removing the empty top row and then resetting the index"
        },
        {
            "metadata": {},
            "cell_type": "code",
            "source": "df1 =  tor_data.drop(tor_data.index[0], inplace = True)\n",
            "execution_count": 42,
            "outputs": []
        },
        {
            "metadata": {},
            "cell_type": "code",
            "source": "tor_data1 = tor_data.reset_index(drop = True)",
            "execution_count": 43,
            "outputs": []
        },
        {
            "metadata": {},
            "cell_type": "code",
            "source": "tor_data1.head()",
            "execution_count": 44,
            "outputs": [
                {
                    "output_type": "execute_result",
                    "execution_count": 44,
                    "data": {
                        "text/plain": "  Postcode           Borough      Neighborhood\n0      M1A      Not assigned      Not assigned\n1      M2A      Not assigned      Not assigned\n2      M3A        North York         Parkwoods\n3      M4A        North York  Victoria Village\n4      M5A  Downtown Toronto      Harbourfront",
                        "text/html": "<div>\n<style scoped>\n    .dataframe tbody tr th:only-of-type {\n        vertical-align: middle;\n    }\n\n    .dataframe tbody tr th {\n        vertical-align: top;\n    }\n\n    .dataframe thead th {\n        text-align: right;\n    }\n</style>\n<table border=\"1\" class=\"dataframe\">\n  <thead>\n    <tr style=\"text-align: right;\">\n      <th></th>\n      <th>Postcode</th>\n      <th>Borough</th>\n      <th>Neighborhood</th>\n    </tr>\n  </thead>\n  <tbody>\n    <tr>\n      <th>0</th>\n      <td>M1A</td>\n      <td>Not assigned</td>\n      <td>Not assigned</td>\n    </tr>\n    <tr>\n      <th>1</th>\n      <td>M2A</td>\n      <td>Not assigned</td>\n      <td>Not assigned</td>\n    </tr>\n    <tr>\n      <th>2</th>\n      <td>M3A</td>\n      <td>North York</td>\n      <td>Parkwoods</td>\n    </tr>\n    <tr>\n      <th>3</th>\n      <td>M4A</td>\n      <td>North York</td>\n      <td>Victoria Village</td>\n    </tr>\n    <tr>\n      <th>4</th>\n      <td>M5A</td>\n      <td>Downtown Toronto</td>\n      <td>Harbourfront</td>\n    </tr>\n  </tbody>\n</table>\n</div>"
                    },
                    "metadata": {}
                }
            ]
        },
        {
            "metadata": {},
            "cell_type": "markdown",
            "source": "#### We need to remove all the 'Not assigned' values from the 'Borough' column"
        },
        {
            "metadata": {},
            "cell_type": "code",
            "source": "tor_data1 = tor_data1[tor_data1.Borough != 'Not assigned']",
            "execution_count": 45,
            "outputs": []
        },
        {
            "metadata": {},
            "cell_type": "code",
            "source": "tor_data1.head()",
            "execution_count": 50,
            "outputs": [
                {
                    "output_type": "execute_result",
                    "execution_count": 50,
                    "data": {
                        "text/plain": "  Postcode           Borough      Neighborhood\n2      M3A        North York         Parkwoods\n3      M4A        North York  Victoria Village\n4      M5A  Downtown Toronto      Harbourfront\n5      M6A        North York  Lawrence Heights\n6      M6A        North York    Lawrence Manor",
                        "text/html": "<div>\n<style scoped>\n    .dataframe tbody tr th:only-of-type {\n        vertical-align: middle;\n    }\n\n    .dataframe tbody tr th {\n        vertical-align: top;\n    }\n\n    .dataframe thead th {\n        text-align: right;\n    }\n</style>\n<table border=\"1\" class=\"dataframe\">\n  <thead>\n    <tr style=\"text-align: right;\">\n      <th></th>\n      <th>Postcode</th>\n      <th>Borough</th>\n      <th>Neighborhood</th>\n    </tr>\n  </thead>\n  <tbody>\n    <tr>\n      <th>2</th>\n      <td>M3A</td>\n      <td>North York</td>\n      <td>Parkwoods</td>\n    </tr>\n    <tr>\n      <th>3</th>\n      <td>M4A</td>\n      <td>North York</td>\n      <td>Victoria Village</td>\n    </tr>\n    <tr>\n      <th>4</th>\n      <td>M5A</td>\n      <td>Downtown Toronto</td>\n      <td>Harbourfront</td>\n    </tr>\n    <tr>\n      <th>5</th>\n      <td>M6A</td>\n      <td>North York</td>\n      <td>Lawrence Heights</td>\n    </tr>\n    <tr>\n      <th>6</th>\n      <td>M6A</td>\n      <td>North York</td>\n      <td>Lawrence Manor</td>\n    </tr>\n  </tbody>\n</table>\n</div>"
                    },
                    "metadata": {}
                }
            ]
        },
        {
            "metadata": {},
            "cell_type": "markdown",
            "source": "### Let's group together 'Neighborhoods' with same 'Postcode'."
        },
        {
            "metadata": {},
            "cell_type": "code",
            "source": "tor_data1.columns",
            "execution_count": 51,
            "outputs": [
                {
                    "output_type": "execute_result",
                    "execution_count": 51,
                    "data": {
                        "text/plain": "Index(['Postcode', 'Borough', 'Neighborhood'], dtype='object')"
                    },
                    "metadata": {}
                }
            ]
        },
        {
            "metadata": {},
            "cell_type": "markdown",
            "source": "#### After getting our column names, we can start grouping Neighborhoods together first by 'Postcode' then by 'Borough' and joining together the string values."
        },
        {
            "metadata": {},
            "cell_type": "code",
            "source": "tor_data1 = tor_data1.groupby(['Postcode','Borough'])['Neighborhood'].apply(','.join).reset_index()\ntor_data1.head()",
            "execution_count": 53,
            "outputs": [
                {
                    "output_type": "execute_result",
                    "execution_count": 53,
                    "data": {
                        "text/plain": "  Postcode      Borough                          Neighborhood\n0      M1B  Scarborough                         Rouge,Malvern\n1      M1C  Scarborough  Highland Creek,Rouge Hill,Port Union\n2      M1E  Scarborough       Guildwood,Morningside,West Hill\n3      M1G  Scarborough                                Woburn\n4      M1H  Scarborough                             Cedarbrae",
                        "text/html": "<div>\n<style scoped>\n    .dataframe tbody tr th:only-of-type {\n        vertical-align: middle;\n    }\n\n    .dataframe tbody tr th {\n        vertical-align: top;\n    }\n\n    .dataframe thead th {\n        text-align: right;\n    }\n</style>\n<table border=\"1\" class=\"dataframe\">\n  <thead>\n    <tr style=\"text-align: right;\">\n      <th></th>\n      <th>Postcode</th>\n      <th>Borough</th>\n      <th>Neighborhood</th>\n    </tr>\n  </thead>\n  <tbody>\n    <tr>\n      <th>0</th>\n      <td>M1B</td>\n      <td>Scarborough</td>\n      <td>Rouge,Malvern</td>\n    </tr>\n    <tr>\n      <th>1</th>\n      <td>M1C</td>\n      <td>Scarborough</td>\n      <td>Highland Creek,Rouge Hill,Port Union</td>\n    </tr>\n    <tr>\n      <th>2</th>\n      <td>M1E</td>\n      <td>Scarborough</td>\n      <td>Guildwood,Morningside,West Hill</td>\n    </tr>\n    <tr>\n      <th>3</th>\n      <td>M1G</td>\n      <td>Scarborough</td>\n      <td>Woburn</td>\n    </tr>\n    <tr>\n      <th>4</th>\n      <td>M1H</td>\n      <td>Scarborough</td>\n      <td>Cedarbrae</td>\n    </tr>\n  </tbody>\n</table>\n</div>"
                    },
                    "metadata": {}
                }
            ]
        },
        {
            "metadata": {},
            "cell_type": "markdown",
            "source": "#### Now we replace the 'Not assigned' values in the 'Neigborhood' column with the corresponding 'Boroughs'."
        },
        {
            "metadata": {},
            "cell_type": "code",
            "source": "tor_data1.loc[tor_data1.Neighborhood == 'Not assigned', 'Neighborhood'] = tor_data1.Borough\ntor_data1.head()",
            "execution_count": 55,
            "outputs": [
                {
                    "output_type": "execute_result",
                    "execution_count": 55,
                    "data": {
                        "text/plain": "  Postcode      Borough                          Neighborhood\n0      M1B  Scarborough                         Rouge,Malvern\n1      M1C  Scarborough  Highland Creek,Rouge Hill,Port Union\n2      M1E  Scarborough       Guildwood,Morningside,West Hill\n3      M1G  Scarborough                                Woburn\n4      M1H  Scarborough                             Cedarbrae",
                        "text/html": "<div>\n<style scoped>\n    .dataframe tbody tr th:only-of-type {\n        vertical-align: middle;\n    }\n\n    .dataframe tbody tr th {\n        vertical-align: top;\n    }\n\n    .dataframe thead th {\n        text-align: right;\n    }\n</style>\n<table border=\"1\" class=\"dataframe\">\n  <thead>\n    <tr style=\"text-align: right;\">\n      <th></th>\n      <th>Postcode</th>\n      <th>Borough</th>\n      <th>Neighborhood</th>\n    </tr>\n  </thead>\n  <tbody>\n    <tr>\n      <th>0</th>\n      <td>M1B</td>\n      <td>Scarborough</td>\n      <td>Rouge,Malvern</td>\n    </tr>\n    <tr>\n      <th>1</th>\n      <td>M1C</td>\n      <td>Scarborough</td>\n      <td>Highland Creek,Rouge Hill,Port Union</td>\n    </tr>\n    <tr>\n      <th>2</th>\n      <td>M1E</td>\n      <td>Scarborough</td>\n      <td>Guildwood,Morningside,West Hill</td>\n    </tr>\n    <tr>\n      <th>3</th>\n      <td>M1G</td>\n      <td>Scarborough</td>\n      <td>Woburn</td>\n    </tr>\n    <tr>\n      <th>4</th>\n      <td>M1H</td>\n      <td>Scarborough</td>\n      <td>Cedarbrae</td>\n    </tr>\n  </tbody>\n</table>\n</div>"
                    },
                    "metadata": {}
                }
            ]
        },
        {
            "metadata": {},
            "cell_type": "markdown",
            "source": "### Now let's see the shape of the cleaned up DataFrame"
        },
        {
            "metadata": {},
            "cell_type": "code",
            "source": "tor_data1.shape",
            "execution_count": 57,
            "outputs": [
                {
                    "output_type": "execute_result",
                    "execution_count": 57,
                    "data": {
                        "text/plain": "(103, 3)"
                    },
                    "metadata": {}
                }
            ]
        },
        {
            "metadata": {},
            "cell_type": "code",
            "source": "",
            "execution_count": null,
            "outputs": []
        }
    ],
    "metadata": {
        "kernelspec": {
            "name": "python3",
            "display_name": "Python 3.6",
            "language": "python"
        },
        "language_info": {
            "name": "python",
            "version": "3.6.8",
            "mimetype": "text/x-python",
            "codemirror_mode": {
                "name": "ipython",
                "version": 3
            },
            "pygments_lexer": "ipython3",
            "nbconvert_exporter": "python",
            "file_extension": ".py"
        }
    },
    "nbformat": 4,
    "nbformat_minor": 1
}